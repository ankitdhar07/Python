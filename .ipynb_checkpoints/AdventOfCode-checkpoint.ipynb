{
 "cells": [
  {
   "cell_type": "code",
   "execution_count": 30,
   "metadata": {},
   "outputs": [
    {
     "name": "stdout",
     "output_type": "stream",
     "text": [
      "590\n"
     ]
    }
   ],
   "source": [
    "#AdventOfCode Day One\n",
    "input_file=open(\"Code1input.txt\",\"r\")\n",
    "result=0\n",
    "for x in input_file:\n",
    "  if x[0]=='+':\n",
    "    result+=int(x[1:])\n",
    "  elif x[0]=='-':\n",
    "    result-=int(x[1:])\n",
    "print(result)\n",
    "\n"
   ]
  },
  {
   "cell_type": "code",
   "execution_count": 125,
   "metadata": {},
   "outputs": [
    {
     "name": "stdout",
     "output_type": "stream",
     "text": [
      "length of frequrency 1023\n",
      "length of set 1023\n",
      "None\n"
     ]
    }
   ],
   "source": [
    "#AdventOfCode Day Two\n",
    "input_file=open(\"Code1input.txt\",\"r\")\n",
    "result=0\n",
    "frequencylist=[]\n",
    "for x in input_file:\n",
    "    if x[0]=='+':\n",
    "        result+=int(x[1:])\n",
    "        frequencylist.append(result)\n",
    "    elif x[0]=='-':\n",
    "        result-=int(x[1:])\n",
    "        frequencylist.append(result)\n",
    "   \n",
    "    \n",
    "          \n",
    "def find_it(look_here):\n",
    "    have_seen = set()\n",
    "    for item in look_here:\n",
    "        if item in have_seen:\n",
    "            return item\n",
    "        have_seen.add(item)\n",
    "frequencylist.sort()\n",
    "\n",
    "listset = set(frequencylist)\n",
    "\n",
    "print('length of frequrency {}'.format(len(frequencylist)))\n",
    "\n",
    "print('length of set {}'.format(len(listset)))\n",
    "\n",
    "\n",
    "print(find_it(frequencylist))\n",
    "\n",
    "    "
   ]
  },
  {
   "cell_type": "code",
   "execution_count": 112,
   "metadata": {},
   "outputs": [
    {
     "data": {
      "text/plain": [
       "7"
      ]
     },
     "execution_count": 112,
     "metadata": {},
     "output_type": "execute_result"
    }
   ],
   "source": [
    "# Check duplicate in list\n",
    "a=[1,2,3,4,56,7,7,7,5,23]\n",
    "def find_it(look_here):\n",
    "    have_seen = set()\n",
    "    for item in look_here:\n",
    "        if item in have_seen:\n",
    "            return item\n",
    "        have_seen.add(item)\n",
    "\n",
    "find_it(a)"
   ]
  },
  {
   "cell_type": "code",
   "execution_count": 110,
   "metadata": {},
   "outputs": [
    {
     "name": "stdout",
     "output_type": "stream",
     "text": [
      "part 1: 138\n",
      "part 2: 66\n"
     ]
    }
   ],
   "source": [
    "#Advent Day 8\n",
    "\n",
    "INPUT='2 3 0 3 10 11 12 1 1 0 1 99 2 1 1 2'\n",
    "data = [int(x) for x in INPUT.split()]\n",
    "\n",
    "def parse(data):\n",
    "    child, metadata = data[:2]\n",
    "    data = data[2:]\n",
    "    scores = []\n",
    "    totals = 0\n",
    "\n",
    "    for i in range(child):\n",
    "        total, score, data = parse(data)\n",
    "        totals += total\n",
    "        scores.append(score)\n",
    "\n",
    "    totals += sum(data[:metadata])\n",
    "\n",
    "    if child == 0:\n",
    "        return (totals, sum(data[:metadata]), data[metadata:])\n",
    "    else:\n",
    "        return (\n",
    "            totals,\n",
    "            sum(scores[k - 1] for k in data[:metadata] if k > 0 and k <= len(scores)),\n",
    "            data[metadata:]\n",
    "        )\n",
    "\n",
    "total, value, remaining = parse(data)\n",
    "\n",
    "print('part 1:', total)\n",
    "print('part 2:', value)"
   ]
  },
  {
   "cell_type": "code",
   "execution_count": null,
   "metadata": {},
   "outputs": [],
   "source": []
  }
 ],
 "metadata": {
  "kernelspec": {
   "display_name": "Python 3",
   "language": "python",
   "name": "python3"
  },
  "language_info": {
   "codemirror_mode": {
    "name": "ipython",
    "version": 3
   },
   "file_extension": ".py",
   "mimetype": "text/x-python",
   "name": "python",
   "nbconvert_exporter": "python",
   "pygments_lexer": "ipython3",
   "version": "3.7.3"
  }
 },
 "nbformat": 4,
 "nbformat_minor": 2
}
