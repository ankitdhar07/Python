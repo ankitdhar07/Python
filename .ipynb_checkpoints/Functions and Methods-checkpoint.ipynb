{
 "cells": [
  {
   "cell_type": "markdown",
   "metadata": {},
   "source": [
    "# Functions and Methods"
   ]
  },
  {
   "cell_type": "code",
   "execution_count": 1,
   "metadata": {},
   "outputs": [],
   "source": [
    "#Write a function that checks whether a number is in a given range (inclusive of high and low)"
   ]
  },
  {
   "cell_type": "code",
   "execution_count": 14,
   "metadata": {},
   "outputs": [
    {
     "name": "stdout",
     "output_type": "stream",
     "text": [
      "5 is in between 2 and 7\n"
     ]
    }
   ],
   "source": [
    "def rangecheck(num,start,stop):\n",
    "    if num in range(start,stop+1):\n",
    "        print('{} is in between {} and {}'.format(num,start,stop))\n",
    "    else:\n",
    "        print('{} is not in range'.format(num))\n",
    "\n",
    "rangecheck(5,1,100)"
   ]
  },
  {
   "cell_type": "markdown",
   "metadata": {},
   "source": [
    "Write a Python function that accepts a string and calculates the number of upper case letters and lower case letters.\n",
    "\n",
    "Sample String : 'Hello Mr. Rogers, how are you this fine Tuesday?'\n",
    "Expected Output : \n",
    "No. of Upper case characters : 4\n",
    "No. of Lower case Characters : 33"
   ]
  },
  {
   "cell_type": "code",
   "execution_count": 31,
   "metadata": {},
   "outputs": [
    {
     "name": "stdout",
     "output_type": "stream",
     "text": [
      "Upper case count is {} 4\n"
     ]
    }
   ],
   "source": [
    "s='Hello Mr. Rogers, how are you this fine Tuesday?'\n",
    "def upper_lower(s):\n",
    "    dictionary={'upper':0,'lower':0}\n",
    "    for x in s:\n",
    "        if x.isupper():\n",
    "            dictionary[\"upper\"]+=1\n",
    "        elif x.islower():\n",
    "            dictionary[\"lower\"]+=1\n",
    "        else:\n",
    "            pass\n",
    "    print('Upper case count is ',dictionary[\"upper\"])   \n",
    "    print('Lower case count is ',dictionary[\"lower\"]) \n",
    "upper_lower(s)"
   ]
  },
  {
   "cell_type": "code",
   "execution_count": null,
   "metadata": {},
   "outputs": [],
   "source": []
  }
 ],
 "metadata": {
  "kernelspec": {
   "display_name": "Python 3",
   "language": "python",
   "name": "python3"
  },
  "language_info": {
   "codemirror_mode": {
    "name": "ipython",
    "version": 3
   },
   "file_extension": ".py",
   "mimetype": "text/x-python",
   "name": "python",
   "nbconvert_exporter": "python",
   "pygments_lexer": "ipython3",
   "version": "3.7.3"
  }
 },
 "nbformat": 4,
 "nbformat_minor": 2
}
