{
 "cells": [
  {
   "cell_type": "code",
   "execution_count": 1,
   "metadata": {},
   "outputs": [],
   "source": [
    "mystring=\"hello World\""
   ]
  },
  {
   "cell_type": "code",
   "execution_count": 2,
   "metadata": {},
   "outputs": [
    {
     "data": {
      "text/plain": [
       "'hello World'"
      ]
     },
     "execution_count": 2,
     "metadata": {},
     "output_type": "execute_result"
    }
   ],
   "source": [
    "mystring"
   ]
  },
  {
   "cell_type": "code",
   "execution_count": 10,
   "metadata": {},
   "outputs": [
    {
     "data": {
      "text/plain": [
       "'r'"
      ]
     },
     "execution_count": 10,
     "metadata": {},
     "output_type": "execute_result"
    }
   ],
   "source": [
    "mystring[8:9]"
   ]
  },
  {
   "cell_type": "code",
   "execution_count": 1,
   "metadata": {},
   "outputs": [
    {
     "data": {
      "text/plain": [
       "'nk'"
      ]
     },
     "execution_count": 1,
     "metadata": {},
     "output_type": "execute_result"
    }
   ],
   "source": [
    "'tinker'[2:4]"
   ]
  },
  {
   "cell_type": "code",
   "execution_count": 15,
   "metadata": {},
   "outputs": [],
   "source": [
    "name=\"ankit\"\n",
    "age=3\n"
   ]
  },
  {
   "cell_type": "code",
   "execution_count": 16,
   "metadata": {},
   "outputs": [
    {
     "ename": "TypeError",
     "evalue": "can only concatenate str (not \"int\") to str",
     "output_type": "error",
     "traceback": [
      "\u001b[1;31m---------------------------------------------------------------------------\u001b[0m",
      "\u001b[1;31mTypeError\u001b[0m                                 Traceback (most recent call last)",
      "\u001b[1;32m<ipython-input-16-d5218fbf63b0>\u001b[0m in \u001b[0;36m<module>\u001b[1;34m\u001b[0m\n\u001b[1;32m----> 1\u001b[1;33m \u001b[0mprint\u001b[0m\u001b[1;33m(\u001b[0m\u001b[0mname\u001b[0m \u001b[1;33m+\u001b[0m \u001b[0mage\u001b[0m\u001b[1;33m)\u001b[0m\u001b[1;33m\u001b[0m\u001b[1;33m\u001b[0m\u001b[0m\n\u001b[0m",
      "\u001b[1;31mTypeError\u001b[0m: can only concatenate str (not \"int\") to str"
     ]
    }
   ],
   "source": [
    "print(name + age)"
   ]
  },
  {
   "cell_type": "code",
   "execution_count": 18,
   "metadata": {},
   "outputs": [
    {
     "name": "stdout",
     "output_type": "stream",
     "text": [
      "ankit is 3 old.\n"
     ]
    }
   ],
   "source": [
    "print(f'{name} is {age} old.')"
   ]
  },
  {
   "cell_type": "code",
   "execution_count": 19,
   "metadata": {},
   "outputs": [
    {
     "ename": "TypeError",
     "evalue": "can only concatenate str (not \"int\") to str",
     "output_type": "error",
     "traceback": [
      "\u001b[1;31m---------------------------------------------------------------------------\u001b[0m",
      "\u001b[1;31mTypeError\u001b[0m                                 Traceback (most recent call last)",
      "\u001b[1;32m<ipython-input-19-5a99d7442640>\u001b[0m in \u001b[0;36m<module>\u001b[1;34m\u001b[0m\n\u001b[1;32m----> 1\u001b[1;33m \u001b[0msent\u001b[0m\u001b[1;33m=\u001b[0m \u001b[0mname\u001b[0m\u001b[1;33m+\u001b[0m\u001b[0mage\u001b[0m\u001b[1;33m\u001b[0m\u001b[1;33m\u001b[0m\u001b[0m\n\u001b[0m\u001b[0;32m      2\u001b[0m \u001b[0mprint\u001b[0m\u001b[1;33m(\u001b[0m\u001b[0msent\u001b[0m\u001b[1;33m)\u001b[0m\u001b[1;33m\u001b[0m\u001b[1;33m\u001b[0m\u001b[0m\n",
      "\u001b[1;31mTypeError\u001b[0m: can only concatenate str (not \"int\") to str"
     ]
    }
   ],
   "source": [
    "sent= name+age\n",
    "print(sent)"
   ]
  },
  {
   "cell_type": "code",
   "execution_count": 20,
   "metadata": {},
   "outputs": [
    {
     "name": "stdout",
     "output_type": "stream",
     "text": [
      "4\n"
     ]
    }
   ],
   "source": [
    "age=age+1\n",
    "print(age)"
   ]
  },
  {
   "cell_type": "markdown",
   "metadata": {},
   "source": [
    "name=ankit kumar dhar\n",
    "    age=27"
   ]
  },
  {
   "cell_type": "markdown",
   "metadata": {},
   "source": [
    "print(f'{name} is {age} years old')"
   ]
  },
  {
   "cell_type": "markdown",
   "metadata": {},
   "source": [
    "name=ankit kumar dhar\n",
    "    age=27"
   ]
  },
  {
   "cell_type": "markdown",
   "metadata": {},
   "source": [
    "print(f'{name} is {age} years old')"
   ]
  },
  {
   "cell_type": "code",
   "execution_count": 21,
   "metadata": {},
   "outputs": [
    {
     "ename": "TypeError",
     "evalue": "can only concatenate str (not \"int\") to str",
     "output_type": "error",
     "traceback": [
      "\u001b[1;31m---------------------------------------------------------------------------\u001b[0m",
      "\u001b[1;31mTypeError\u001b[0m                                 Traceback (most recent call last)",
      "\u001b[1;32m<ipython-input-21-d5218fbf63b0>\u001b[0m in \u001b[0;36m<module>\u001b[1;34m\u001b[0m\n\u001b[1;32m----> 1\u001b[1;33m \u001b[0mprint\u001b[0m\u001b[1;33m(\u001b[0m\u001b[0mname\u001b[0m \u001b[1;33m+\u001b[0m \u001b[0mage\u001b[0m\u001b[1;33m)\u001b[0m\u001b[1;33m\u001b[0m\u001b[1;33m\u001b[0m\u001b[0m\n\u001b[0m",
      "\u001b[1;31mTypeError\u001b[0m: can only concatenate str (not \"int\") to str"
     ]
    }
   ],
   "source": [
    "print(name + age)\n"
   ]
  },
  {
   "cell_type": "code",
   "execution_count": 22,
   "metadata": {},
   "outputs": [
    {
     "ename": "SyntaxError",
     "evalue": "invalid syntax (<ipython-input-22-29ebb31a06e2>, line 1)",
     "output_type": "error",
     "traceback": [
      "\u001b[1;36m  File \u001b[1;32m\"<ipython-input-22-29ebb31a06e2>\"\u001b[1;36m, line \u001b[1;32m1\u001b[0m\n\u001b[1;33m    name=ankit kumar dhar\u001b[0m\n\u001b[1;37m                   ^\u001b[0m\n\u001b[1;31mSyntaxError\u001b[0m\u001b[1;31m:\u001b[0m invalid syntax\n"
     ]
    }
   ],
   "source": [
    "name=ankit kumar dhar \n",
    "age=27"
   ]
  },
  {
   "cell_type": "code",
   "execution_count": 23,
   "metadata": {},
   "outputs": [
    {
     "name": "stdout",
     "output_type": "stream",
     "text": [
      "ankit kumar dhar is 27 years old\n"
     ]
    }
   ],
   "source": [
    "name=\"ankit kumar dhar\"\n",
    "age=27\n",
    "print(f'{name} is {age} years old')"
   ]
  },
  {
   "cell_type": "code",
   "execution_count": 25,
   "metadata": {},
   "outputs": [
    {
     "ename": "SyntaxError",
     "evalue": "invalid syntax (<ipython-input-25-f630590844ef>, line 1)",
     "output_type": "error",
     "traceback": [
      "\u001b[1;36m  File \u001b[1;32m\"<ipython-input-25-f630590844ef>\"\u001b[1;36m, line \u001b[1;32m1\u001b[0m\n\u001b[1;33m    print('{p} {r}!'.format(p='Python') r='rules')\u001b[0m\n\u001b[1;37m                                        ^\u001b[0m\n\u001b[1;31mSyntaxError\u001b[0m\u001b[1;31m:\u001b[0m invalid syntax\n"
     ]
    }
   ],
   "source": [
    "print('{p} {r}!'.format(p='Python'), r='rules')"
   ]
  },
  {
   "cell_type": "code",
   "execution_count": 26,
   "metadata": {},
   "outputs": [
    {
     "ename": "SyntaxError",
     "evalue": "invalid syntax (<ipython-input-26-4e599587db49>, line 1)",
     "output_type": "error",
     "traceback": [
      "\u001b[1;36m  File \u001b[1;32m\"<ipython-input-26-4e599587db49>\"\u001b[1;36m, line \u001b[1;32m1\u001b[0m\n\u001b[1;33m    .format\u001b[0m\n\u001b[1;37m    ^\u001b[0m\n\u001b[1;31mSyntaxError\u001b[0m\u001b[1;31m:\u001b[0m invalid syntax\n"
     ]
    }
   ],
   "source": [
    ".format"
   ]
  },
  {
   "cell_type": "code",
   "execution_count": 27,
   "metadata": {},
   "outputs": [
    {
     "name": "stdout",
     "output_type": "stream",
     "text": [
      "Python rules!\n"
     ]
    }
   ],
   "source": [
    "print('{p} {r}!'.format(p='Python', r='rules'))"
   ]
  },
  {
   "cell_type": "code",
   "execution_count": 28,
   "metadata": {},
   "outputs": [
    {
     "ename": "ModuleNotFoundError",
     "evalue": "No module named 'fitz'",
     "output_type": "error",
     "traceback": [
      "\u001b[1;31m---------------------------------------------------------------------------\u001b[0m",
      "\u001b[1;31mModuleNotFoundError\u001b[0m                       Traceback (most recent call last)",
      "\u001b[1;32m<ipython-input-28-ddc8f2936534>\u001b[0m in \u001b[0;36m<module>\u001b[1;34m\u001b[0m\n\u001b[0;32m      2\u001b[0m \u001b[1;32mimport\u001b[0m \u001b[0msubprocess\u001b[0m\u001b[1;33m\u001b[0m\u001b[1;33m\u001b[0m\u001b[0m\n\u001b[0;32m      3\u001b[0m \u001b[1;32mimport\u001b[0m \u001b[0mpandas\u001b[0m \u001b[1;32mas\u001b[0m \u001b[0mpd\u001b[0m\u001b[1;33m\u001b[0m\u001b[1;33m\u001b[0m\u001b[0m\n\u001b[1;32m----> 4\u001b[1;33m \u001b[1;32mimport\u001b[0m \u001b[0mfitz\u001b[0m\u001b[1;33m\u001b[0m\u001b[1;33m\u001b[0m\u001b[0m\n\u001b[0m\u001b[0;32m      5\u001b[0m \u001b[1;32mimport\u001b[0m \u001b[0mbase64\u001b[0m\u001b[1;33m\u001b[0m\u001b[1;33m\u001b[0m\u001b[0m\n\u001b[0;32m      6\u001b[0m \u001b[1;33m\u001b[0m\u001b[0m\n",
      "\u001b[1;31mModuleNotFoundError\u001b[0m: No module named 'fitz'"
     ]
    }
   ],
   "source": [
    "import os\n",
    "import subprocess\n",
    "import pandas as pd\n",
    "import fitz\n",
    "import base64\n",
    "\n",
    "import dash\n",
    "import dash_core_components as dcc\n",
    "import dash_html_components as html\n",
    "from dash.dependencies import Input, Output, State\n",
    "import dash_table_experiments as dt\n",
    "\n",
    "from data.external.country_financial_crime_risk_rating_sim.country_financial_crime_risk_rating import (\n",
    "    COUNTRY_FINANCIAL_CRIME_RISK,\n",
    ")\n",
    "from data.external.ofac_embargo.ofac_embargo import COUNTRY_OFAC_EMBARGO\n",
    "\n",
    "from processing.document import Document\n",
    "from processing.preprocessor import SpacyModel\n",
    "\n",
    "print(COUNTRY_OFAC_EMBARGO)\n",
    "print(\"-------------------------------------------------------------------\")\n",
    "print(COUNTRY_FINANCIAL_CRIME_RISK)"
   ]
  },
  {
   "cell_type": "code",
   "execution_count": 30,
   "metadata": {},
   "outputs": [],
   "source": [
    "sum=+9+1-11+12+17-6+14-1-17+5-6-10-14+9+12-10-13+10-9+4-17-11+17+20-15-13+17-10+19-15+10-3-14-3-6-18-14+1-19+11-12+17-2-8+16+15+6-1+6-17+20-6-19-18-1+3-19-16+11-5+16-5-2-11-1-2+9-8-8-11-19-6-14+13-14-7-6+16-15+8-1-14+2+8-19+2+3-16+6-9-6-14+18+4+9+1+3-10+13-17+16+19+18+20+4-9-16+18-10+15-12+16-15+18+9+15-16+3+1-14-2+18-13-11+15+16-18-1-10+12+30+12+7-3+6+9+3+12-18+4+13+2-12+13+6+6+5-23+1+16-22+3-10-20-7-12-2+12+8-13-2-15-6-13+12+9+21+9-6+22-3+12+5+15+16-11+13+8+19-1+6+3+9+10+15-4+9+4+2-5-15-1+5+15-18-11-13+6-13-11-2+19+19+16-19+6+18+14+6-11+7+1-12+17+16+7+17+19-4+16+5-13-5-13+7-8+2-4+14-18-13-10-6-2+21-15+4-3-6-6+3-4+17-7+1+14+9+16+3-15-2+4-11-11-15+16-14+15+8-5-14-14-8-4-15+3-19-6-5-17+30+9+4+2+15+18-4-2-6-16+14-10-5+19+38+16-4+7+11+19+3+9-11+18-10+4-11-12-1-4+14-6+11+16+14+7+2+3-17+18+15-9+7+9-4+10+1+12-1-19-18-10-7-5-12+19+4+12+4-17-6-6-21-11+1+2-13-7+10-7+6+6+16-10+16+13-17+21-7-7+13-12+7-14-4-1-18-6-28-12+10+17-13-3+20-5+69-16+2-8+27+2+17-12+9+5+20-5+8-6+19-9+7+6+12+13+4+13+12+5+19+14+1-7-9-10+7-9-17-14-8+11+19+5-18-2-18-4+2+18+12+7-11-7-20-13-16-1+7-15-4-15+13-12+17+8-19+18+15-11-18-18-3+16+17-18-19-7+3+9+13-16-18-14+42+32+12+1+18-20-6+11-7+14+20-9+17-13+14+8-7+9-20+3-16-5+15+17+1+16-4+13+16-2+5+15+8-22+16+17-13-16+3-2+10-14+8+18-14-18-6-2+1-4-7-4+2+15+18-15+9+9-5+23+16-15+13-7+11-16+20-7+13+14+2+9-19+15+5+6-15-5-19+22-10+2+26+3-12+14-40+15-3+18+50+25+47-16+47+17+1+6-10-7+18+8+6+25-4+41-128-3-60-94-5-37-20-23+12-7+12-8+7-17-6-5-37-1+14-18+1+19-12-17-6+18+20-25-9+61+11+115-73+57-65+9-143+8+976+82255+3-10-8-18-7+14-6-3-3+18-1-6-9+17+6-10+15+5+20+10+17-11-19+15-8-10+11+19+6+2+3-4+15+10+11+6+13+15-18+15-13-6+9-10-16-8+22+19+15+7+2+14-19+13+1-4-6-2-13-16+10+7-8+19-15-6-14+13-21-4-17+10+13-14+4-6+8+16-19-8-10-3-17+12+12+21+1-2+6+14+18+4+18-16+9+13+15+12+2-6-4+18+15-10-16+17-15+20+19+19+3-19+10-15+16+3-2-14+8+1-4-2+7-20-11+10-2-17+6-9-14-7-15+13+19+18+17+8-2-10-11+9-15+9-4-9+18+16+4+13-1+5+3+3+17-3+7-13+18-16+5+17+18+14-13-16+9-17+7+5-2-15-20+3+8-1+6-7-10-6+4-8+15+1-11+2+6+15+17-11+16+12+5+14-5-19+17+20-16+12-11+17+7+18+10-12+13-16+18+17-10-13-10-13+10+10+13-1+9+1-14+7-4+9-2-19-15+1-3-6-10+7-1-2-18+12-19-6+8+8-11-4-11-7+4+17+15+5+16+4-2+17-24+18+9-6-6-28-23-11-13+22-21-3+18-22+5-9+27+10+16+11+9+20+22-2+17-10+6-7+4+6+19+5-8+2+10+14-13-19-5+16+13-9+19+15+12+8-13-18+14-5+8-14-4+5+15+9+18+14-10-13-1+8-5-18+11-7-12+17-18-20+18-9-17+9+9+13+19-5-2-20-1+18+18+15-3+14-5+11-18+16+17+1+19+1+19+12+11+15+9+2+17-5-6-5-20+10+1-5-17-3-18+13+18-7+11-5-13+2+17+1+9-18+16+26+18-7+13-17+36+18+4+19+13-18-12+15+16+4+3-6+15-11+16+14-7-22+6+2-5+20+3+4-6+19+11-18+23-8+22+5+17-11-7+3+45-17-7+31-17+26+13+14-10+12+13+13+16-18+16+27-83879"
   ]
  },
  {
   "cell_type": "code",
   "execution_count": 31,
   "metadata": {},
   "outputs": [
    {
     "name": "stdout",
     "output_type": "stream",
     "text": [
      "590\n"
     ]
    }
   ],
   "source": [
    "print(sum)"
   ]
  },
  {
   "cell_type": "code",
   "execution_count": 35,
   "metadata": {},
   "outputs": [
    {
     "name": "stdout",
     "output_type": "stream",
     "text": [
      "{'i', 'p', 'M', 's'}\n"
     ]
    }
   ],
   "source": [
    "str='Mississippi'\n",
    "print(set(str[0::1]))\n"
   ]
  },
  {
   "cell_type": "code",
   "execution_count": 36,
   "metadata": {},
   "outputs": [
    {
     "data": {
      "text/plain": [
       "'C:\\\\Users\\\\C45807\\\\Desktop\\\\Untitled Folder'"
      ]
     },
     "execution_count": 36,
     "metadata": {},
     "output_type": "execute_result"
    }
   ],
   "source": [
    "pwd"
   ]
  },
  {
   "cell_type": "code",
   "execution_count": 38,
   "metadata": {},
   "outputs": [
    {
     "name": "stdout",
     "output_type": "stream",
     "text": [
      "Writing myfile.txt\n"
     ]
    }
   ],
   "source": [
    "%%writefile myfile.txt\n",
    "This is a text file.\n",
    "this is the second line.\n",
    "This is the thrid line."
   ]
  },
  {
   "cell_type": "code",
   "execution_count": 39,
   "metadata": {},
   "outputs": [
    {
     "ename": "NameError",
     "evalue": "name 'myfile' is not defined",
     "output_type": "error",
     "traceback": [
      "\u001b[1;31m---------------------------------------------------------------------------\u001b[0m",
      "\u001b[1;31mNameError\u001b[0m                                 Traceback (most recent call last)",
      "\u001b[1;32m<ipython-input-39-10e6b5c62091>\u001b[0m in \u001b[0;36m<module>\u001b[1;34m\u001b[0m\n\u001b[1;32m----> 1\u001b[1;33m \u001b[0mopen\u001b[0m\u001b[1;33m(\u001b[0m\u001b[0mmyfile\u001b[0m\u001b[1;33m.\u001b[0m\u001b[0mtxt\u001b[0m\u001b[1;33m)\u001b[0m\u001b[1;33m\u001b[0m\u001b[1;33m\u001b[0m\u001b[0m\n\u001b[0m",
      "\u001b[1;31mNameError\u001b[0m: name 'myfile' is not defined"
     ]
    }
   ],
   "source": [
    "open(myfile.txt)"
   ]
  },
  {
   "cell_type": "code",
   "execution_count": 43,
   "metadata": {},
   "outputs": [],
   "source": [
    "with open('test.txt',mode='w') as f:\n",
    "     f.write(\"Hello World\")"
   ]
  },
  {
   "cell_type": "code",
   "execution_count": 46,
   "metadata": {},
   "outputs": [
    {
     "name": "stdout",
     "output_type": "stream",
     "text": [
      "Hello WorldHello World second line\n"
     ]
    }
   ],
   "source": [
    "with open ('test.txt',mode='r') as f:\n",
    "    print(f.read())"
   ]
  },
  {
   "cell_type": "code",
   "execution_count": 45,
   "metadata": {},
   "outputs": [],
   "source": [
    "with open('test.txt',mode='a') as f:\n",
    "     f.write(\"Hello World second line\")"
   ]
  },
  {
   "cell_type": "code",
   "execution_count": 47,
   "metadata": {},
   "outputs": [
    {
     "name": "stdout",
     "output_type": "stream",
     "text": [
      "Hello World\n"
     ]
    }
   ],
   "source": [
    "def myfunction():\n",
    "    print(\"Hello World\")\n",
    "myfunction()"
   ]
  },
  {
   "cell_type": "code",
   "execution_count": 48,
   "metadata": {},
   "outputs": [],
   "source": [
    "def myfunc(*args):\n",
    "    mylist=[]\n",
    "    for a in args:\n",
    "        if a%2==0:\n",
    "            mylist.append(a)\n",
    "    return mylist"
   ]
  },
  {
   "cell_type": "code",
   "execution_count": 49,
   "metadata": {},
   "outputs": [
    {
     "data": {
      "text/plain": [
       "[24]"
      ]
     },
     "execution_count": 49,
     "metadata": {},
     "output_type": "execute_result"
    }
   ],
   "source": [
    "myfunc(1,24,5,3)"
   ]
  },
  {
   "cell_type": "code",
   "execution_count": 58,
   "metadata": {},
   "outputs": [
    {
     "ename": "IndentationError",
     "evalue": "expected an indented block (<ipython-input-58-dca8c0c1a79f>, line 3)",
     "output_type": "error",
     "traceback": [
      "\u001b[1;36m  File \u001b[1;32m\"<ipython-input-58-dca8c0c1a79f>\"\u001b[1;36m, line \u001b[1;32m3\u001b[0m\n\u001b[1;33m    newstring=[]\u001b[0m\n\u001b[1;37m            ^\u001b[0m\n\u001b[1;31mIndentationError\u001b[0m\u001b[1;31m:\u001b[0m expected an indented block\n"
     ]
    }
   ],
   "source": [
    "def myfunc (String):\n",
    "    for char in String:\n",
    "        \n"
   ]
  },
  {
   "cell_type": "code",
   "execution_count": null,
   "metadata": {},
   "outputs": [],
   "source": []
  }
 ],
 "metadata": {
  "kernelspec": {
   "display_name": "Python 3",
   "language": "python",
   "name": "python3"
  },
  "language_info": {
   "codemirror_mode": {
    "name": "ipython",
    "version": 3
   },
   "file_extension": ".py",
   "mimetype": "text/x-python",
   "name": "python",
   "nbconvert_exporter": "python",
   "pygments_lexer": "ipython3",
   "version": "3.7.3"
  }
 },
 "nbformat": 4,
 "nbformat_minor": 2
}
